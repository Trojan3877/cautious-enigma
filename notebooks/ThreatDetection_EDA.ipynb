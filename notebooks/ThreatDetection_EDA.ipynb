# Threat Detection EDA & Model Tuning

This notebook explores log data, extracts features, and tunes the Isolation Forest model for optimal threat detection.

import pandas as pd
import matplotlib.pyplot as plt
import seaborn as sns
from sklearn.ensemble import IsolationForest
from sklearn.metrics import classification_report

df = pd.read_csv("../data/sample_logs.csv")
df.head()

from data_loader import preprocess_logs
df_clean = preprocess_logs(df)

from feature_engineering import extract_features
features = extract_features(df_clean)

sns.histplot(features["hour"])
sns.scatterplot(x="ip_freq", y="hour", hue="suspicious_flag", data=features)

model = IsolationForest(n_estimators=100, contamination=0.1, random_state=42)
model.fit(features)
preds = model.predict(features)
features["prediction"] = preds

print(features["prediction"].value_counts())
sns.scatterplot(x="ip_freq", y="hour", hue="prediction", data=features)

notebooks/
└── ThreatDetection_EDA.ipynb
